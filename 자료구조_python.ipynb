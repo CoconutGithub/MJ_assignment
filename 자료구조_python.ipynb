{
  "nbformat": 4,
  "nbformat_minor": 0,
  "metadata": {
    "colab": {
      "provenance": [],
      "collapsed_sections": [
        "MdjyenoM7ZT8"
      ],
      "toc_visible": true,
      "authorship_tag": "ABX9TyMKzGdRH3qFLEiKweSvE5tF",
      "include_colab_link": true
    },
    "kernelspec": {
      "name": "python3",
      "display_name": "Python 3"
    },
    "language_info": {
      "name": "python"
    }
  },
  "cells": [
    {
      "cell_type": "markdown",
      "metadata": {
        "id": "view-in-github",
        "colab_type": "text"
      },
      "source": [
        "<a href=\"https://colab.research.google.com/github/CoconutGithub/MJ_assignment/blob/main/%EC%9E%90%EB%A3%8C%EA%B5%AC%EC%A1%B0_python.ipynb\" target=\"_parent\"><img src=\"https://colab.research.google.com/assets/colab-badge.svg\" alt=\"Open In Colab\"/></a>"
      ]
    },
    {
      "cell_type": "markdown",
      "source": [
        "# 파이썬 기초"
      ],
      "metadata": {
        "id": "MdjyenoM7ZT8"
      }
    },
    {
      "cell_type": "markdown",
      "source": [
        "**Variable**"
      ],
      "metadata": {
        "id": "T-xlwrbM4vo1"
      }
    },
    {
      "cell_type": "code",
      "source": [
        "i=1\n",
        "f=2.22\n",
        "c='c'\n",
        "s=\"string\"\n",
        "b=True\n",
        "print(i)\n",
        "print(s)"
      ],
      "metadata": {
        "id": "CgTR3XfagH8m"
      },
      "execution_count": null,
      "outputs": []
    },
    {
      "cell_type": "markdown",
      "source": [
        "**Input**"
      ],
      "metadata": {
        "id": "CNxOrA_k42T-"
      }
    },
    {
      "cell_type": "code",
      "source": [
        "i=input()\n",
        "s=input()\n",
        "print(i)\n",
        "print(s)"
      ],
      "metadata": {
        "id": "ncsSt4Ju39Av"
      },
      "execution_count": null,
      "outputs": []
    },
    {
      "cell_type": "markdown",
      "source": [
        "**Variable type**"
      ],
      "metadata": {
        "id": "YXYWzHp_5pMk"
      }
    },
    {
      "cell_type": "code",
      "source": [
        "i=input()\n",
        "x=int (i)\n",
        "print(x+1)\n",
        "s=str (x)\n",
        "print(s)"
      ],
      "metadata": {
        "id": "hvtJf2N249uE"
      },
      "execution_count": null,
      "outputs": []
    },
    {
      "cell_type": "markdown",
      "source": [
        "**If 조건문**"
      ],
      "metadata": {
        "id": "pK88ftAY59LR"
      }
    },
    {
      "cell_type": "code",
      "source": [
        "i=int(input())\n",
        "if(i<10):\n",
        "  print(\"low\")\n",
        "else:\n",
        "  print(\"hi\")"
      ],
      "metadata": {
        "id": "uE8auue05ykA"
      },
      "execution_count": null,
      "outputs": []
    },
    {
      "cell_type": "markdown",
      "source": [
        "**For loop**"
      ],
      "metadata": {
        "id": "s98gVyv87Mre"
      }
    },
    {
      "cell_type": "code",
      "source": [
        "#for 변수 in range(시작값, 끝값 +1, 증가값)\n",
        "for i in range(1,6,1) :\n",
        "  print(i)"
      ],
      "metadata": {
        "id": "xd_JJ2H27Giz"
      },
      "execution_count": null,
      "outputs": []
    },
    {
      "cell_type": "markdown",
      "source": [
        "**1부터 10까지 짝수의 합**"
      ],
      "metadata": {
        "id": "03MDx0-676Ct"
      }
    },
    {
      "cell_type": "code",
      "source": [
        "sum=0\n",
        "num = int(input())\n",
        "for i in range (1,num+1,1):\n",
        "  if((i%2)==0):\n",
        "    sum = sum + i\n",
        "    print(i)\n",
        "print(sum)\n",
        "#짝수들의 합과 짝수들 출력"
      ],
      "metadata": {
        "id": "7vM4CMm573my"
      },
      "execution_count": null,
      "outputs": []
    },
    {
      "cell_type": "markdown",
      "source": [
        "**Function**"
      ],
      "metadata": {
        "id": "2XS1d_6V9pXf"
      }
    },
    {
      "cell_type": "code",
      "source": [
        "def func(x,y):\n",
        "  plus = x+y\n",
        "  minus = x-y\n",
        "  return plus, minus\n",
        "a, b = func(10,20)\n",
        "print(a)\n",
        "print(b)"
      ],
      "metadata": {
        "id": "FC7pbHMH8lyf"
      },
      "execution_count": null,
      "outputs": []
    },
    {
      "cell_type": "markdown",
      "source": [
        "**함수를 이용해서 입력값에 따라 성적 매기기**"
      ],
      "metadata": {
        "id": "ICDBciwy-Usp"
      }
    },
    {
      "cell_type": "code",
      "source": [
        "def func(n):\n",
        "  if(n>90):\n",
        "    return \"A\"\n",
        "  elif(n>80):\n",
        "    return \"B\"\n",
        "  elif(n>70):\n",
        "    return \"C\"\n",
        "  else:\n",
        "    return \"F\"\n",
        "i =int(input())\n",
        "print(func(i))\n",
        ""
      ],
      "metadata": {
        "id": "Fer03sua-DpL"
      },
      "execution_count": null,
      "outputs": []
    },
    {
      "cell_type": "markdown",
      "source": [
        "**String**"
      ],
      "metadata": {
        "id": "yK3OnsALAWgp"
      }
    },
    {
      "cell_type": "code",
      "source": [
        "s=\"abcdefg\"\n",
        "s[-1] #맨끝\n",
        "print(s[-1])\n",
        "s[1:4] #1~4 직전까지 - 1~3까지\n",
        "print(s[1:4])\n",
        "s[3:] #3부터 끝까지\n",
        "print(s[3:])\n",
        "s[:2] #처음부터 2직전까지\n",
        "print(s[:2])\n",
        "len(s) #길이\n",
        "s1 = s + \"xyz\"\n",
        "print(s1)"
      ],
      "metadata": {
        "id": "V2C7BM3K_IxX",
        "outputId": "ad03d318-891a-4b24-f372-390a649bcbc8",
        "colab": {
          "base_uri": "https://localhost:8080/"
        }
      },
      "execution_count": null,
      "outputs": [
        {
          "output_type": "stream",
          "name": "stdout",
          "text": [
            "g\n",
            "bcd\n",
            "defg\n",
            "ab\n",
            "abcdefgxyz\n"
          ]
        }
      ]
    },
    {
      "cell_type": "markdown",
      "source": [
        "**문자열 함수들**"
      ],
      "metadata": {
        "id": "ZKCwVQxyB81i"
      }
    },
    {
      "cell_type": "code",
      "source": [
        "s = \"어떤 별에 사는 꽃을 좋아한다면 밤에 하늘을 쳐다보는게 즐거울 거야 어느 별이나 다 꽃이 필테니까\"\n",
        "print(s.count(\"별\")) #몇 번 나오는지\n",
        "print(s.find(\"별\")) #단어가 나오는 위치\n",
        "print(s.rfind(\"별\")) #리버스, 반대부터 나오는 위치\n",
        "print(s.index(\"별\")) #find 와 같음\n",
        "print(s.split()) #문자열을 빈칸이나 문자로 토막\n",
        "\n",
        "s = \"aa,bb,cc,dd\"\n",
        "print(s.split(',')) #쉼표를 기준으로 나눔"
      ],
      "metadata": {
        "id": "ZLky0iNcAole",
        "colab": {
          "base_uri": "https://localhost:8080/"
        },
        "outputId": "00e03661-c413-4334-f4b1-337bfc94b25f"
      },
      "execution_count": null,
      "outputs": [
        {
          "output_type": "stream",
          "name": "stdout",
          "text": [
            "2\n",
            "3\n",
            "41\n",
            "3\n",
            "['어떤', '별에', '사는', '꽃을', '좋아한다면', '밤에', '하늘을', '쳐다보는게', '즐거울', '거야', '어느', '별이나', '다', '꽃이', '필테니까']\n",
            "['aa', 'bb', 'cc', 'dd']\n"
          ]
        }
      ]
    },
    {
      "cell_type": "markdown",
      "source": [
        "**speed측정(실제로 구현)**"
      ],
      "metadata": {
        "id": "TtJuABx69WJK"
      }
    },
    {
      "cell_type": "code",
      "source": [
        "import time\n",
        "t =0\n",
        "\n",
        "start = time.time()#시작 할 때의 시간\n",
        "\n",
        "for i in range(0,1000000) :\n",
        "  t = t+1\n",
        "\n",
        "end = time.time()#끝날때의 시간\n",
        "print(end-start)\n",
        "#결과가 컴퓨터마다, 실행할때마다 달라짐"
      ],
      "metadata": {
        "id": "iaJKhAO29Wep"
      },
      "execution_count": null,
      "outputs": []
    },
    {
      "cell_type": "markdown",
      "source": [
        "**빅오 표기법**"
      ],
      "metadata": {
        "id": "kOjoUAAu-l3r"
      }
    },
    {
      "cell_type": "markdown",
      "source": [
        "# array"
      ],
      "metadata": {
        "id": "5U6P6yCS7dsW"
      }
    },
    {
      "cell_type": "code",
      "source": [
        "a = [1,3,5,7,9]\n",
        "a.append(\"hi\")\n",
        "a[2:4]"
      ],
      "metadata": {
        "colab": {
          "base_uri": "https://localhost:8080/"
        },
        "id": "Yp2TEZ_v7fQ9",
        "outputId": "f0f0eadb-3c68-4af5-ee24-7ad2e6e2eec6"
      },
      "execution_count": null,
      "outputs": [
        {
          "output_type": "execute_result",
          "data": {
            "text/plain": [
              "[5, 7]"
            ]
          },
          "metadata": {},
          "execution_count": 7
        }
      ]
    },
    {
      "cell_type": "code",
      "source": [
        "A = []\n",
        "A.append(0)\n",
        "A.append(1)\n",
        "A.append(2)\n",
        "A.append(3)\n",
        "A.append(4)\n",
        "A[:2]"
      ],
      "metadata": {
        "colab": {
          "base_uri": "https://localhost:8080/"
        },
        "id": "mhf4jIYD-VHs",
        "outputId": "d0b497f8-f62f-43b6-cea5-8d2051ef3026"
      },
      "execution_count": null,
      "outputs": [
        {
          "output_type": "execute_result",
          "data": {
            "text/plain": [
              "[0, 1]"
            ]
          },
          "metadata": {},
          "execution_count": 5
        }
      ]
    },
    {
      "cell_type": "code",
      "source": [
        "s = [\"에스파\",\"아이브\",\"뉴진스\",\"잇지\"]\n",
        "s[-1]\n",
        "s.append(\"트와이스\")\n",
        "s[1] = \"유진\"\n",
        "del s[1]\n",
        "s"
      ],
      "metadata": {
        "colab": {
          "base_uri": "https://localhost:8080/"
        },
        "id": "E92MguZt_EfG",
        "outputId": "9888dce6-d665-4d99-8ad6-9450283d69c9"
      },
      "execution_count": null,
      "outputs": [
        {
          "output_type": "execute_result",
          "data": {
            "text/plain": [
              "['에스파', '뉴진스', '잇지', '트와이스']"
            ]
          },
          "metadata": {},
          "execution_count": 13
        }
      ]
    },
    {
      "cell_type": "code",
      "source": [
        "a = [99,3,22,0]\n",
        "a.append(88)\n",
        "a.pop()\n",
        "a.sort()\n",
        "a.reverse()\n",
        "a.index(22)#찾는 값\n",
        "a.insert(1,14)#위치, 넣을 값\n",
        "a.remove(0)#삭제할 값\n",
        "a.count(99)#찾는 값\n",
        "a.clear()\n",
        "a.len()\n",
        "a.copy()"
      ],
      "metadata": {
        "colab": {
          "base_uri": "https://localhost:8080/"
        },
        "id": "KFrEjR19_27f",
        "outputId": "b23b567d-1e78-4541-cee8-d04d24655c49"
      },
      "execution_count": null,
      "outputs": [
        {
          "output_type": "execute_result",
          "data": {
            "text/plain": [
              "1"
            ]
          },
          "metadata": {},
          "execution_count": 21
        }
      ]
    },
    {
      "cell_type": "markdown",
      "source": [
        "**O(n)을 만족하는 api만들기**+에러처리"
      ],
      "metadata": {
        "id": "RUxAdy1dCWgr"
      }
    },
    {
      "cell_type": "code",
      "source": [
        "A = [0,1,2,3,4]\n",
        "\n",
        "def Myappend(a):\n",
        "  A.append(a)\n",
        "\n",
        "def Mypop():\n",
        "  t = A[len(A)-1]\n",
        "  del (A[len(A)-1])\n",
        "  return t\n",
        "\n",
        "print(Mypop())"
      ],
      "metadata": {
        "colab": {
          "base_uri": "https://localhost:8080/"
        },
        "id": "MWAAtvlEBFwh",
        "outputId": "e4e8a1df-9672-4c04-b54f-70c95e7ac30f"
      },
      "execution_count": null,
      "outputs": [
        {
          "output_type": "stream",
          "name": "stdout",
          "text": [
            "4\n"
          ]
        }
      ]
    },
    {
      "cell_type": "code",
      "source": [
        "A = [0,1,2,3,4]\n",
        "\n",
        "def Myindex(a):\n",
        "  for i in range(0,len(A),1):\n",
        "    if(A[i]==a):\n",
        "      return i\n",
        "\n",
        "print(Myindex(3))"
      ],
      "metadata": {
        "colab": {
          "base_uri": "https://localhost:8080/"
        },
        "id": "fJ7JJf4zDgAW",
        "outputId": "a0f6618e-4722-4ec7-84c4-ff7ebe9a6780"
      },
      "execution_count": null,
      "outputs": [
        {
          "output_type": "stream",
          "name": "stdout",
          "text": [
            "3\n"
          ]
        }
      ]
    },
    {
      "cell_type": "code",
      "source": [
        "A = [0,1,2,3,4]\n",
        "\n",
        "def Myinsert(a,b):\n",
        "  A.append(None)\n",
        "  for i in range(len(A)-1,a,-1):\n",
        "    A[i] = A[i-1]\n",
        "  A[a] = b\n",
        "  return A\n",
        "print(Myinsert(3,5))"
      ],
      "metadata": {
        "colab": {
          "base_uri": "https://localhost:8080/"
        },
        "id": "GS0vqbIvE9wP",
        "outputId": "3770d731-4718-486e-ae01-e0c56f424469"
      },
      "execution_count": null,
      "outputs": [
        {
          "output_type": "stream",
          "name": "stdout",
          "text": [
            "[0, 1, 2, 5, 3, 4]\n"
          ]
        }
      ]
    },
    {
      "cell_type": "code",
      "source": [
        "A = [0,1,2,3,4]\n",
        "\n",
        "def Myremove(a):\n",
        "  for i in range(0,len(A),1):\n",
        "    if(A[i]==a):\n",
        "      break\n",
        "  for j in range(i,len(A)-1,1):\n",
        "    A[j] = A[j+1]\n",
        "  del A[len(A)-1]\n",
        "  return A\n",
        "\n",
        "print(Myremove(2))"
      ],
      "metadata": {
        "colab": {
          "base_uri": "https://localhost:8080/"
        },
        "id": "HymUDb2sGN6f",
        "outputId": "ab5aac84-cb98-4f0f-d3c7-71d39157b9f8"
      },
      "execution_count": null,
      "outputs": [
        {
          "output_type": "stream",
          "name": "stdout",
          "text": [
            "[0, 1, 3, 4]\n"
          ]
        }
      ]
    },
    {
      "cell_type": "markdown",
      "source": [
        "+Mycount,Mylen,Myswap,Myreverse"
      ],
      "metadata": {
        "id": "JyHi4KHbGPD-"
      }
    },
    {
      "cell_type": "code",
      "source": [
        "A = [0,1,2,3,4]\n",
        "\n",
        "def Mylen():\n",
        "\n",
        "  for i in range (0,len(A),1):\n",
        "    if(A[i] == A[len(A)-1]):\n",
        "      return i+1\n",
        "\n",
        "print(Mylen())"
      ],
      "metadata": {
        "colab": {
          "base_uri": "https://localhost:8080/"
        },
        "id": "L7Vq2BoIGbAj",
        "outputId": "84af3d4f-3161-45cc-96a9-faefbde318cd"
      },
      "execution_count": null,
      "outputs": [
        {
          "output_type": "stream",
          "name": "stdout",
          "text": [
            "5\n"
          ]
        }
      ]
    },
    {
      "cell_type": "code",
      "source": [
        "A = [0,1,2,3,4]\n",
        "\n",
        "def Mycount(a):\n",
        "  count = 0\n",
        "  for i in range(0,len(A),1):\n",
        "    if(A[i]==a):\n",
        "      count += 1\n",
        "  return count\n",
        "\n",
        "print(Mycount(3))"
      ],
      "metadata": {
        "colab": {
          "base_uri": "https://localhost:8080/"
        },
        "id": "lPqUaYi7Idbo",
        "outputId": "c47df509-625a-445d-d89f-5e36d7ac9375"
      },
      "execution_count": null,
      "outputs": [
        {
          "output_type": "stream",
          "name": "stdout",
          "text": [
            "1\n"
          ]
        }
      ]
    },
    {
      "cell_type": "code",
      "source": [
        "A = [0,1,2,3,4]\n",
        "\n",
        "def Myswap(a,b):\n",
        "  for i in range(0,len(A),1):\n",
        "    if(A[i]==a):\n",
        "      indexA = i\n",
        "    if(A[i]==b):\n",
        "      indexB = i\n",
        "  A[indexA] = b\n",
        "  A[indexB] = a\n",
        "  return A\n",
        "\n",
        "print(Myswap(1,3))"
      ],
      "metadata": {
        "colab": {
          "base_uri": "https://localhost:8080/"
        },
        "id": "6J5lYDwMJfEY",
        "outputId": "1bbe570d-b627-4297-b849-e50b90008f54"
      },
      "execution_count": null,
      "outputs": [
        {
          "output_type": "stream",
          "name": "stdout",
          "text": [
            "[0, 3, 2, 1, 4]\n"
          ]
        }
      ]
    },
    {
      "cell_type": "markdown",
      "source": [
        "4개의 정수를 입력받아 list 저장하고, 평균을 출력하는 프로그램을 for loop와 array를 사용하여 작성 [O(n)]안에서\n",
        "+ 최대 최소까지"
      ],
      "metadata": {
        "id": "YPEgTWygKrbN"
      }
    },
    {
      "cell_type": "code",
      "source": [
        "a = []\n",
        "\n",
        "for i in range (0,4,1):\n",
        "  a.append(int(input(\"입력받기 : \")))\n",
        "\n",
        "sum = 0\n",
        "for i in range (0,len(a),1):\n",
        "  sum += a[i]\n",
        "\n",
        "print(sum/len(a))#평균\n",
        "\n",
        "max = a[0]\n",
        "min = a[0]\n",
        "for i in range (0,len(a),1):\n",
        "  if(max < a[i]):\n",
        "    max = a[i]\n",
        "  if(min > a[i]):\n",
        "    min = a[i]\n",
        "\n",
        "print(max)#최대\n",
        "print(min)#최소\n",
        "print(max+min)#최대+최소"
      ],
      "metadata": {
        "colab": {
          "base_uri": "https://localhost:8080/"
        },
        "id": "2gb0DuBQKwEx",
        "outputId": "cd8940a8-c784-47d7-cb2e-500bef66e16d"
      },
      "execution_count": null,
      "outputs": [
        {
          "output_type": "stream",
          "name": "stdout",
          "text": [
            "입력받기 : 5\n",
            "입력받기 : 9\n",
            "입력받기 : 3\n",
            "입력받기 : 2\n",
            "4.75\n",
            "9\n",
            "2\n",
            "11\n"
          ]
        }
      ]
    },
    {
      "cell_type": "markdown",
      "source": [
        "**2차원 배열**"
      ],
      "metadata": {
        "id": "oyfdbBXdq1yJ"
      }
    },
    {
      "cell_type": "code",
      "source": [
        "import numpy as np\n",
        "a = [1,2,3,4,5,6]\n",
        "\n",
        "a = np.reshape(a,(3,2))\n",
        "for i in range(0,3):\n",
        "  print(' ')\n",
        "  for j in range(0,2):\n",
        "    print(a[i][j],end=' ')\n"
      ],
      "metadata": {
        "colab": {
          "base_uri": "https://localhost:8080/"
        },
        "id": "3AHbsA5Lq4aK",
        "outputId": "111fae88-7845-4ba6-a484-0b8afd5533f6"
      },
      "execution_count": null,
      "outputs": [
        {
          "output_type": "stream",
          "name": "stdout",
          "text": [
            " \n",
            "1 2  \n",
            "3 4  \n",
            "5 6 "
          ]
        }
      ]
    },
    {
      "cell_type": "markdown",
      "source": [
        "3x3 배열로 입력받고 최댓값 출력, 총합과 평균도 출력"
      ],
      "metadata": {
        "id": "GVVFSuzIt7_S"
      }
    },
    {
      "cell_type": "code",
      "source": [
        "import numpy as np\n",
        "a=[]\n",
        "sum=0\n",
        "\n",
        "for i in range(0,3):\n",
        "  for j in range(0,3):\n",
        "    a.append(int(input(\"입력 : \")))\n",
        "\n",
        "a=np.reshape(a,(3,3))\n",
        "max=0\n",
        "min=0\n",
        "for i in range(0,3):\n",
        "  for j in range(0,3):\n",
        "    if(max<a[i][j]):\n",
        "      max=a[i][j]\n",
        "    if(min>a[i][j]):\n",
        "      min=a[i][j]\n",
        "\n",
        "print(max)\n",
        "\n",
        "for i in range(0,3):\n",
        "  for j in range(0,3):\n",
        "    sum += a[i][j]\n",
        "\n",
        "print(sum)\n",
        "print(sum/9)\n"
      ],
      "metadata": {
        "id": "R1ziTAJJsBdh",
        "colab": {
          "base_uri": "https://localhost:8080/"
        },
        "outputId": "0ecce6c9-837b-44b9-e0e7-e6ab4797b3c0"
      },
      "execution_count": null,
      "outputs": [
        {
          "output_type": "stream",
          "name": "stdout",
          "text": [
            "입력 : 1\n",
            "입력 : 2\n",
            "입력 : 3\n",
            "입력 : 4\n",
            "입력 : 5\n",
            "입력 : 6\n",
            "입력 : 7\n",
            "입력 : 8\n",
            "입력 : 9\n",
            "9\n",
            "45\n",
            "5.0\n"
          ]
        }
      ]
    },
    {
      "cell_type": "code",
      "source": [
        "a=[8,17,5,18,5,9,1,2,5,4]\n",
        "\n",
        "def 짝수():\n",
        "  짝수 =0\n",
        "  for i in range(0,len(a),1):\n",
        "    if(a[i]%2==0):\n",
        "      짝수 +=1\n",
        "  return 짝수\n",
        "\n",
        "def 중복():\n",
        "  for i in range(0,len(a),1):\n",
        "    for j in range(0,len(a),1):\n",
        "      if(a[i]==a[j]):\n",
        "        return 'Y'\n",
        "  return 'N'\n",
        "\n",
        "def MaxMin():\n",
        "  max=a[0]\n",
        "  min=a[0]\n",
        "  for i in range(0,len(a),1):\n",
        "    if(a[i]>max):\n",
        "      max=a[i]\n",
        "    if(a[i]<min):\n",
        "      min=a[i]\n",
        "  return max-min\n",
        "\n",
        "print(짝수())\n",
        "print(중복())\n",
        "print(MaxMin())\n"
      ],
      "metadata": {
        "colab": {
          "base_uri": "https://localhost:8080/"
        },
        "id": "EPHEom92uiuD",
        "outputId": "65e7907e-5565-4889-b611-bef12799df6d"
      },
      "execution_count": null,
      "outputs": [
        {
          "output_type": "stream",
          "name": "stdout",
          "text": [
            "4\n",
            "Y\n",
            "17\n"
          ]
        }
      ]
    },
    {
      "cell_type": "code",
      "source": [
        "import numpy as np\n",
        "rows, cols = (3,3)\n",
        "a=[]\n",
        "for i in range(0,rows):\n",
        "  for j in range(0,cols):\n",
        "    a.append(int(input(\"입력값 : \")))\n",
        "\n",
        "a = np.reshape(a,(rows,cols))\n",
        "for i in range(0,rows):\n",
        "  print(\" \")\n",
        "  for j in range(0,cols):\n",
        "    print(a[i][j],end=' ')\n",
        ""
      ],
      "metadata": {
        "colab": {
          "base_uri": "https://localhost:8080/"
        },
        "id": "v2MhTRMyCm7I",
        "outputId": "35519e9c-b960-43da-843e-14445360929f"
      },
      "execution_count": null,
      "outputs": [
        {
          "output_type": "stream",
          "name": "stdout",
          "text": [
            "입력값 : 5\n",
            "입력값 : 9\n",
            "입력값 : 3\n",
            "입력값 : 2\n",
            "입력값 : 6\n",
            "입력값 : 6\n",
            "입력값 : 3\n",
            "입력값 : 8\n",
            "입력값 : 9\n",
            " \n",
            "5 9 3  \n",
            "2 6 6  \n",
            "3 8 9 "
          ]
        }
      ]
    },
    {
      "cell_type": "code",
      "source": [
        "import numpy as np\n",
        "rows,cols=(3,3)\n",
        "a= [[0 for i in range(cols)]for j in range(rows)]\n",
        "for i in range(0,rows):\n",
        "  for j in range(0,cols):\n",
        "    a[i][j]=(int(input(\"입력값 : \")))\n",
        "for i in range(0,rows):\n",
        "  print(\" \")\n",
        "  for j in range(0,cols):\n",
        "    print(a[i][j],end=' ')\n"
      ],
      "metadata": {
        "colab": {
          "base_uri": "https://localhost:8080/"
        },
        "id": "cuL3th4UHcQq",
        "outputId": "095d0ca8-485d-487c-f2c7-86b58b80657b"
      },
      "execution_count": null,
      "outputs": [
        {
          "output_type": "stream",
          "name": "stdout",
          "text": [
            "입력값 : 5\n",
            "입력값 : 9\n",
            "입력값 : 3\n",
            "입력값 : 2\n",
            "입력값 : 6\n",
            "입력값 : 6\n",
            "입력값 : 3\n",
            "입력값 : 8\n",
            "입력값 : 9\n",
            " \n",
            "5 9 3  \n",
            "2 6 6  \n",
            "3 8 9 "
          ]
        }
      ]
    },
    {
      "cell_type": "code",
      "source": [
        "import numpy as np\n",
        "rows,cols=(5,5)\n",
        "a=[]\n",
        "k=0\n",
        "for i in range(0,rows):\n",
        "  for j in range(0,cols):\n",
        "    a.append(k)\n",
        "    k+=1\n",
        "\n",
        "a= np.reshape(a,(rows,cols))\n",
        "\n",
        "for i in range(0,rows):\n",
        "  print(\" \")\n",
        "  for j in range(0,cols):\n",
        "    print(a[i][j],end=' ')\n",
        "\n",
        "print(\"\\n--------------\")\n",
        "\n",
        "for i in range(0,rows):#짝수행 출력\n",
        "  if(i%2!=0):\n",
        "    print(\" \")\n",
        "    for j in range(0,cols):\n",
        "      print(a[i][j],end=' ')\n",
        "  else:\n",
        "    continue\n",
        "\n",
        "print(\"\\n--------------\")\n",
        "\n",
        "for i in range(0,rows):# 홀수행 출력\n",
        "  print(\" \")\n",
        "  for j in range(0,cols):\n",
        "    if(j%2==0):\n",
        "      print(a[i][j],end=' ')\n",
        "    else:\n",
        "      continue\n",
        "\n",
        "print(\"\\n--------------\")\n",
        "\n",
        "sumcols=0#행들의 합\n",
        "sum=[]\n",
        "for i in range(0,rows):\n",
        "  for j in range(0,cols):\n",
        "    sumcols += a[i][j]\n",
        "  print(sumcols,end=' ')\n",
        "  sumcols =0\n"
      ],
      "metadata": {
        "colab": {
          "base_uri": "https://localhost:8080/"
        },
        "id": "jTEEtb2M-AnX",
        "outputId": "0ccf3cfd-64c1-4f06-ec4a-9e0767b6999a"
      },
      "execution_count": null,
      "outputs": [
        {
          "output_type": "stream",
          "name": "stdout",
          "text": [
            " \n",
            "0 1 2 3 4  \n",
            "5 6 7 8 9  \n",
            "10 11 12 13 14  \n",
            "15 16 17 18 19  \n",
            "20 21 22 23 24 \n",
            "--------------\n",
            " \n",
            "5 6 7 8 9  \n",
            "15 16 17 18 19 \n",
            "--------------\n",
            " \n",
            "0 2 4  \n",
            "5 7 9  \n",
            "10 12 14  \n",
            "15 17 19  \n",
            "20 22 24 \n",
            "--------------\n",
            "10 35 60 85 110 "
          ]
        }
      ]
    },
    {
      "cell_type": "markdown",
      "source": [
        "**달팽이 배열**"
      ],
      "metadata": {
        "id": "jjhRNDbmJ1-b"
      }
    },
    {
      "cell_type": "code",
      "source": [
        "import numpy as np\n",
        "\n",
        "row,cols=(5,5)\n",
        "a= [[0 for i in range(cols)]for j in range(rows)]\n",
        "k=0\n",
        "i=0\n",
        "j=0\n",
        "\n",
        "\n",
        "#->\n",
        "for j in range(0,cols):\n",
        "  a[i][j]=k\n",
        "i += 1\n",
        "j -= 1\n",
        "#아래\n",
        "for i in range(i,rows):\n",
        "  a[i][j]=k\n",
        "i -= 1\n",
        "j -= 1\n",
        "#<-\n",
        "for j in range(j,0,-1):\n",
        "  a[i][j]=k\n",
        "#위\n",
        "for i in range(rows,0,-1):\n",
        "  a[i][j]=k"
      ],
      "metadata": {
        "id": "HIQxRFTADRKo"
      },
      "execution_count": null,
      "outputs": []
    },
    {
      "cell_type": "markdown",
      "source": [
        "**대각선 출력**"
      ],
      "metadata": {
        "id": "oYWwJWpFRtoI"
      }
    },
    {
      "cell_type": "code",
      "source": [
        "import numpy as np\n",
        "rows,cols=(5,5)\n",
        "a=[]\n",
        "k=1\n",
        "for i in range(0,rows):\n",
        "  for j in range(0,cols):\n",
        "    a.append(k)\n",
        "    k+=1\n",
        "a= np.reshape(a,(rows,cols))\n",
        "\n",
        "i=0\n",
        "j=0\n",
        "n=0\n",
        "for n in range(n,rows,1):\n",
        "  j=n\n",
        "  for i in range(0,rows,1):\n",
        "    if(j>=0):\n",
        "      print(a[i][j])\n",
        "    else:\n",
        "      break\n",
        "    j -= 1\n",
        "\n",
        "for i in range(1,rows,1):\n",
        "  for j in range(4,0,-1):\n",
        "    if(i<rows):\n",
        "      print(a[i][j])\n",
        "    else:\n",
        "      break\n",
        "    i+=1\n",
        ""
      ],
      "metadata": {
        "colab": {
          "base_uri": "https://localhost:8080/"
        },
        "id": "0-XmKARRKo6w",
        "outputId": "e1cafc90-4a01-429e-8378-062059d73592"
      },
      "execution_count": null,
      "outputs": [
        {
          "output_type": "stream",
          "name": "stdout",
          "text": [
            "1\n",
            "2\n",
            "6\n",
            "3\n",
            "7\n",
            "11\n",
            "4\n",
            "8\n",
            "12\n",
            "16\n",
            "5\n",
            "9\n",
            "13\n",
            "17\n",
            "21\n",
            "10\n",
            "14\n",
            "18\n",
            "22\n",
            "15\n",
            "19\n",
            "23\n",
            "20\n",
            "24\n",
            "25\n"
          ]
        }
      ]
    },
    {
      "cell_type": "markdown",
      "source": [
        "# linked list\n"
      ],
      "metadata": {
        "id": "LIDyik-7sxUd"
      }
    },
    {
      "cell_type": "code",
      "source": [
        "class Node():\n",
        "  def __init__(self):\n",
        "    self.data = None\n",
        "    self.link = None\n",
        "\n",
        "def delete(a):\n",
        "  current = head\n",
        "  for i in range(0,a-1):\n",
        "    current = current.link\n",
        "\n",
        "  current.link = current.link.link\n",
        "\n",
        "def insert(a,b):\n",
        "  n = Node()\n",
        "  n.data = b\n",
        "\n",
        "  current = head\n",
        "  for i in range (0,a-1):\n",
        "    current = current.link\n",
        "\n",
        "  n.link = current.link\n",
        "  current.link=n\n",
        "\n",
        "n0=Node()\n",
        "n0.data=\"에스파\"\n",
        "\n",
        "n1=Node()\n",
        "n1.data=\"아이브\"\n",
        "\n",
        "n2=Node()\n",
        "n2.data=\"뉴진스\"\n",
        "\n",
        "n3=Node()\n",
        "n3.data=\"잇지\"\n",
        "\n",
        "n0.link = n1\n",
        "n1.link = n2\n",
        "n2.link = n3\n",
        "\n",
        "head = n0\n",
        "\n",
        "insert(1,\"블랙핑크\")\n",
        "delete(3)\n",
        "\n",
        "current = n0\n",
        "while current.link != None:\n",
        "  print(current.data)\n",
        "  current = current.link\n",
        "print(current.data)"
      ],
      "metadata": {
        "colab": {
          "base_uri": "https://localhost:8080/"
        },
        "id": "3Z3Pwfuts6gP",
        "outputId": "32388dca-a808-4c9c-fc6f-bba3755d2a65"
      },
      "execution_count": null,
      "outputs": [
        {
          "output_type": "stream",
          "name": "stdout",
          "text": [
            "에스파\n",
            "블랙핑크\n",
            "아이브\n",
            "잇지\n"
          ]
        }
      ]
    },
    {
      "cell_type": "markdown",
      "source": [
        "**더블 링크드 리스트**"
      ],
      "metadata": {
        "id": "0YELXuznDjhJ"
      }
    },
    {
      "cell_type": "code",
      "source": [
        "class Node():\n",
        "  def __init__(self):\n",
        "    self.data = None\n",
        "    self.left = None\n",
        "    self.right = None\n",
        "\n",
        "\n",
        "def delete(a):\n",
        "  current = head\n",
        "  for i in range(0,a-1):\n",
        "    current = current.link\n",
        "\n",
        "  current.link = current.link.link\n",
        "\n",
        "def insert(a,b):\n",
        "  n = Node()\n",
        "  n.data = b\n",
        "\n",
        "  current = head\n",
        "  for i in range (0,a-1):\n",
        "    current = current.link\n",
        "\n",
        "  n.link = current.link\n",
        "  current.link=n\n",
        "\n",
        "n0=Node()\n",
        "n0.data=\"에스파\"\n",
        "\n",
        "n1=Node()\n",
        "n1.data=\"아이브\"\n",
        "\n",
        "n2=Node()\n",
        "n2.data=\"뉴진스\"\n",
        "\n",
        "n3=Node()\n",
        "n3.data=\"잇지\"\n",
        "\n",
        "n0.right = n1\n",
        "n1.right = n2\n",
        "n2.right = n3\n",
        "n3.left = n2\n",
        "n2.left = n1\n",
        "n1.left = n0\n",
        "\n",
        "head = n0\n",
        "tail = n3\n",
        "\n",
        "current = n0\n",
        "while current.link != None:\n",
        "  print(current.data)\n",
        "  current = current.link\n",
        "print(current.data)"
      ],
      "metadata": {
        "id": "ufjEeJFuw7UO"
      },
      "execution_count": null,
      "outputs": []
    },
    {
      "cell_type": "code",
      "source": [
        "class Node():\n",
        "  def __init__(self):\n",
        "    self.data = None\n",
        "    self.link = None\n",
        "\n",
        "n0=Node()\n",
        "n0.data=\"A\"\n",
        "\n",
        "n1=Node()\n",
        "n1.data=\"B\"\n",
        "\n",
        "n2=Node()\n",
        "n2.data=\"C\"\n",
        "\n",
        "n3=Node()\n",
        "n3.data=\"D\"\n",
        "\n",
        "n0.link = n1\n",
        "n1.link = n2\n",
        "n2.link = n3\n",
        "\n",
        "head = n0\n",
        "\n",
        "def reverse_print(n):\n",
        "  current = n\n",
        "  if(current.link==None):\n",
        "    print(current.data)\n",
        "    return\n",
        "  reverse_print(current.link)\n",
        "  print(current.data)\n",
        "\n",
        "reverse_print(n0)"
      ],
      "metadata": {
        "colab": {
          "base_uri": "https://localhost:8080/"
        },
        "id": "eIs9L1t4FI_K",
        "outputId": "2814c3f7-f9d1-42bc-f488-4cd577b07426"
      },
      "execution_count": null,
      "outputs": [
        {
          "output_type": "stream",
          "name": "stdout",
          "text": [
            "잇지\n",
            "뉴진스\n",
            "아이브\n",
            "에스파\n"
          ]
        }
      ]
    },
    {
      "cell_type": "code",
      "source": [
        "class Node():\n",
        "  def __init__(self):\n",
        "    self.data = None\n",
        "    self.link = None\n",
        "\n",
        "n0=Node()\n",
        "n0.data=\"1\"\n",
        "\n",
        "n1=Node()\n",
        "n1.data=\"7\"\n",
        "\n",
        "n2=Node()\n",
        "n2.data=\"9\"\n",
        "\n",
        "n3=Node()\n",
        "n3.data=\"3\"\n",
        "\n",
        "n0.link = n1\n",
        "n1.link = n2\n",
        "n2.link = n3\n",
        "\n",
        "head = n0\n",
        "\n",
        "#최대 최소 구하기\n",
        "def min_max(n):\n",
        "  min=0\n",
        "  max =0\n",
        "  current= n\n",
        "  while current.link!=None:\n",
        "    if()"
      ],
      "metadata": {
        "id": "MjEIAnTLG8OA"
      },
      "execution_count": null,
      "outputs": []
    },
    {
      "cell_type": "markdown",
      "source": [
        "**중복 삭제**"
      ],
      "metadata": {
        "id": "FjW3ru__LZD2"
      }
    },
    {
      "cell_type": "code",
      "source": [
        "class Node():\n",
        "  def __init__(self):\n",
        "    self.data = None\n",
        "    self.link = None\n",
        "\n",
        "def delete(a):\n",
        "  current = head\n",
        "  for i in range(0,a-1):\n",
        "    current = current.link\n",
        "\n",
        "  current.link = current.link.link\n",
        "\n",
        "n0=Node()\n",
        "n0.data=\"1\"\n",
        "n1=Node()\n",
        "n1.data=\"1\"\n",
        "n2=Node()\n",
        "n2.data=\"2\"\n",
        "n3=Node()\n",
        "n3.data=\"2\"\n",
        "n4=Node()\n",
        "n4.data=\"3\"\n",
        "n5=Node()\n",
        "n5.data=\"3\"\n",
        "\n",
        "n0.link = n1\n",
        "n1.link = n2\n",
        "n2.link = n3\n",
        "n3.link = n4\n",
        "n4.link = n5\n",
        "\n",
        "head = n0\n",
        "\n",
        "temp=n0\n",
        "for t in range(0,5,1):\n",
        "  current=temp\n",
        "  n=current.data\n",
        "  temp=temp.link\n",
        "  for j in range(0,current.link!=None,1):\n",
        "    i=current.link\n",
        "    if(current.data==i):\n",
        "      delete(j)\n",
        "    current.link = current.link.link\n",
        "\n",
        "\n",
        "current = n0\n",
        "while current.link != None:\n",
        "  print(current.data)\n",
        "  current = current.link\n",
        "print(current.data)"
      ],
      "metadata": {
        "colab": {
          "base_uri": "https://localhost:8080/"
        },
        "id": "XuQJwpAzHdDy",
        "outputId": "c2552f07-3a29-4dba-ed18-701e8eec491a"
      },
      "execution_count": null,
      "outputs": [
        {
          "output_type": "stream",
          "name": "stdout",
          "text": [
            "1\n",
            "2\n",
            "3\n"
          ]
        }
      ]
    },
    {
      "cell_type": "code",
      "source": [
        "class Node():\n",
        "  def __init__(self):\n",
        "    self.data = None\n",
        "    self.link = None\n",
        "\n",
        "#숫자 a가 몇개 있는지\n",
        "def count(a):\n",
        "  count=0\n",
        "  current=head\n",
        "  while current.link != None:\n",
        "    if(current.data==a):\n",
        "      count+=1\n",
        "    current=current.link\n",
        "    return count\n",
        "\n",
        "#N번째 원소 찾기\n",
        "def getNth(n,a):\n",
        "  current = head\n",
        "  for i in range(0,a-1):\n",
        "    current = current.link\n",
        "\n",
        "  return current.data\n",
        "\n",
        "\n",
        "def delete(a):\n",
        "  current = head\n",
        "  for i in range(0,a-1):\n",
        "    current = current.link\n",
        "\n",
        "  current.link = current.link.link\n",
        "\n",
        "def insert(a,b):\n",
        "  n = Node()\n",
        "  n.data = b\n",
        "\n",
        "  current = head\n",
        "  for i in range (0,a-1):\n",
        "    current = current.link\n",
        "\n",
        "  n.link = current.link\n",
        "  current.link=n\n",
        "\n",
        "n0=Node()\n",
        "n0.data=\"1\"\n",
        "\n",
        "n1=Node()\n",
        "n1.data=\"3\"\n",
        "\n",
        "n2=Node()\n",
        "n2.data=\"3\"\n",
        "\n",
        "n3=Node()\n",
        "n3.data=\"7\"\n",
        "\n",
        "n0.link = n1\n",
        "n1.link = n2\n",
        "n2.link = n3\n",
        "\n",
        "head = n0\n",
        "\n",
        "print(count(n0,3))\n",
        "\n",
        "\n"
      ],
      "metadata": {
        "colab": {
          "base_uri": "https://localhost:8080/"
        },
        "id": "LyRcCHZZLbR9",
        "outputId": "33dc6e25-b586-43cd-cba2-5470e530fb79"
      },
      "execution_count": null,
      "outputs": [
        {
          "output_type": "stream",
          "name": "stdout",
          "text": [
            "0\n"
          ]
        }
      ]
    },
    {
      "cell_type": "markdown",
      "source": [
        "**서큘러 더블링크드 리스트**"
      ],
      "metadata": {
        "id": "WMsF9KKSNYyB"
      }
    },
    {
      "cell_type": "code",
      "source": [
        "class Node():\n",
        "  def __init__(self):\n",
        "    self.data = None\n",
        "    self.left = None\n",
        "    self.right = None\n",
        "\n",
        "\n",
        "def delete(a):\n",
        "  current = head\n",
        "  for i in range(0,a-1):\n",
        "    current = current.link\n",
        "\n",
        "  current.link = current.link.link\n",
        "\n",
        "def insert(a,b):\n",
        "  n = Node()\n",
        "  n.data = b\n",
        "\n",
        "  current = head\n",
        "  for i in range (0,a-1):\n",
        "    current = current.link\n",
        "\n",
        "  n.link = current.link\n",
        "  current.link=n\n",
        "\n",
        "n0=Node()\n",
        "n0.data=\"3\"\n",
        "\n",
        "n1=Node()\n",
        "n1.data=\"7\"\n",
        "\n",
        "n2=Node()\n",
        "n2.data=\"9\"\n",
        "\n",
        "n3=Node()\n",
        "n3.data=\"5\"\n",
        "\n",
        "n4=Node()\n",
        "n4.data=\"1\"\n",
        "\n",
        "n0.right = n1\n",
        "n1.right = n2\n",
        "n2.right = n3\n",
        "n3.rihgt = n4\n",
        "n4.right = n0\n",
        "n4.left = n3\n",
        "n3.left = n2\n",
        "n2.left = n1\n",
        "n1.left = n0\n",
        "n0.left = n4\n",
        "\n",
        "\n",
        "head = n0\n",
        "tail = n4\n",
        "\n"
      ],
      "metadata": {
        "id": "Cb0RcYpnNXmb"
      },
      "execution_count": null,
      "outputs": []
    },
    {
      "cell_type": "code",
      "source": [
        "#중복 찾기\n",
        "class Node():\n",
        "  def __init__(self):\n",
        "    self.data = None\n",
        "    self.link = None\n",
        "\n",
        "def delete(a):\n",
        "  current = head\n",
        "  for i in range(0,a-1):\n",
        "    current = current.link\n",
        "\n",
        "  current.link = current.link.link\n",
        "\n",
        "n0=Node()\n",
        "n0.data=\"3\"\n",
        "n1=Node()\n",
        "n1.data=\"1\"\n",
        "n2=Node()\n",
        "n2.data=\"3\"\n",
        "n3=Node()\n",
        "n3.data=\"2\"\n",
        "n4=Node()\n",
        "n4.data=\"5\"\n",
        "\n",
        "n0.link = n1\n",
        "n1.link = n2\n",
        "n2.link = n3\n",
        "n3.link = n4\n",
        "\n",
        "head = n0\n",
        "\n",
        "temp1=head\n",
        "temp2=temp1.link\n",
        "\n",
        "answer =0\n",
        "while temp1.link != None:\n",
        "  while temp2.link != None:\n",
        "    if(temp1.data==temp2.data):\n",
        "      answer = 1\n",
        "      break\n",
        "    temp2=temp2.link\n",
        "  temp1=temp1.link\n",
        "\n",
        "if(answer==0):\n",
        "  print(\"no\")\n",
        "else:\n",
        "  print(\"yes\")"
      ],
      "metadata": {
        "colab": {
          "base_uri": "https://localhost:8080/"
        },
        "id": "WgtDvVR2PG3G",
        "outputId": "cfc3c14e-bc57-43da-f91f-0cff300549f7"
      },
      "execution_count": null,
      "outputs": [
        {
          "output_type": "stream",
          "name": "stdout",
          "text": [
            "yes\n"
          ]
        }
      ]
    },
    {
      "cell_type": "code",
      "source": [
        "#두 리스트 합치기\n",
        "class Node():\n",
        "  def __init__(self):\n",
        "    self.data = None\n",
        "    self.link = None\n",
        "\n",
        "n0=Node()\n",
        "n0.data=3\n",
        "n1=Node()\n",
        "n1.data=5\n",
        "n2=Node()\n",
        "n2.data=10\n",
        "n3=Node()\n",
        "n3.data=21\n",
        "\n",
        "n0.link = n1\n",
        "n1.link = n2\n",
        "n2.link = n3\n",
        "\n",
        "list1 = n0\n",
        "\n",
        "n4=Node()\n",
        "n4.data=4\n",
        "n5=Node()\n",
        "n5.data=6\n",
        "n6=Node()\n",
        "n6.data=15\n",
        "n7=Node()\n",
        "n7.data=26\n",
        "n8=Node()\n",
        "n8.data=33\n",
        "\n",
        "n4.link = n5\n",
        "n5.link = n6\n",
        "n6.link = n7\n",
        "n7.link = n8\n",
        "\n",
        "list2 = n4\n",
        "\n",
        "temp1=list1\n",
        "temp2=list2\n",
        "\n",
        "while temp2.link != None:\n",
        "  while temp1.link != None:\n",
        "    if(temp2.data<=temp1.data):\n",
        "      print(temp2.data)\n",
        "      temp2=temp2.link\n",
        "    else:\n",
        "      print(temp1.data)\n",
        "      temp1=temp1.link\n"
      ],
      "metadata": {
        "colab": {
          "base_uri": "https://localhost:8080/",
          "height": 317
        },
        "id": "I7Q9dFSERwHb",
        "outputId": "4b6f3a2c-b5e6-480e-82fb-48f413792119"
      },
      "execution_count": null,
      "outputs": [
        {
          "output_type": "stream",
          "name": "stdout",
          "text": [
            "3\n",
            "4\n",
            "5\n",
            "6\n",
            "10\n"
          ]
        },
        {
          "output_type": "error",
          "ename": "KeyboardInterrupt",
          "evalue": "ignored",
          "traceback": [
            "\u001b[0;31m---------------------------------------------------------------------------\u001b[0m",
            "\u001b[0;31mKeyboardInterrupt\u001b[0m                         Traceback (most recent call last)",
            "\u001b[0;32m<ipython-input-39-e01c0d6c7c41>\u001b[0m in \u001b[0;36m<cell line: 43>\u001b[0;34m()\u001b[0m\n\u001b[1;32m     42\u001b[0m \u001b[0;34m\u001b[0m\u001b[0m\n\u001b[1;32m     43\u001b[0m \u001b[0;32mwhile\u001b[0m \u001b[0mtemp2\u001b[0m \u001b[0;34m!=\u001b[0m \u001b[0;32mNone\u001b[0m\u001b[0;34m:\u001b[0m\u001b[0;34m\u001b[0m\u001b[0;34m\u001b[0m\u001b[0m\n\u001b[0;32m---> 44\u001b[0;31m   \u001b[0;32mwhile\u001b[0m \u001b[0mtemp1\u001b[0m\u001b[0;34m.\u001b[0m\u001b[0mlink\u001b[0m \u001b[0;34m!=\u001b[0m \u001b[0;32mNone\u001b[0m\u001b[0;34m:\u001b[0m\u001b[0;34m\u001b[0m\u001b[0;34m\u001b[0m\u001b[0m\n\u001b[0m\u001b[1;32m     45\u001b[0m     \u001b[0;32mif\u001b[0m\u001b[0;34m(\u001b[0m\u001b[0mtemp2\u001b[0m\u001b[0;34m.\u001b[0m\u001b[0mdata\u001b[0m\u001b[0;34m<=\u001b[0m\u001b[0mtemp1\u001b[0m\u001b[0;34m.\u001b[0m\u001b[0mdata\u001b[0m\u001b[0;34m)\u001b[0m\u001b[0;34m:\u001b[0m\u001b[0;34m\u001b[0m\u001b[0;34m\u001b[0m\u001b[0m\n\u001b[1;32m     46\u001b[0m       \u001b[0mprint\u001b[0m\u001b[0;34m(\u001b[0m\u001b[0mtemp2\u001b[0m\u001b[0;34m.\u001b[0m\u001b[0mdata\u001b[0m\u001b[0;34m)\u001b[0m\u001b[0;34m\u001b[0m\u001b[0;34m\u001b[0m\u001b[0m\n",
            "\u001b[0;31mKeyboardInterrupt\u001b[0m: "
          ]
        }
      ]
    },
    {
      "cell_type": "markdown",
      "source": [
        "# Stack\n"
      ],
      "metadata": {
        "id": "NQ8yKy9n28TB"
      }
    },
    {
      "cell_type": "code",
      "source": [
        "from re import T\n",
        "FULL=4\n",
        "stack=[\"에스파\",\"아이브\",\"뉴진스\",\"잇지\"]\n",
        "top=3\n",
        "\n",
        "def isStackFull():\n",
        "  global Full,stack,top\n",
        "  if(top>=FULL-1):\n",
        "    return True\n",
        "  else:\n",
        "    return False\n",
        "\n",
        "def isStackEmpty():\n",
        "  global Full,stack,top\n",
        "  if(top<=-1):\n",
        "    return True\n",
        "  else:\n",
        "    return False\n",
        "\n",
        "def push(a):\n",
        "  global Full,stack,top\n",
        "  if(isStackFull()):\n",
        "    print(\"Stack is full!\")\n",
        "    return\n",
        "  top+=1\n",
        "  stack[top]=a\n",
        "\n",
        "\n",
        "def pop():\n",
        "  global Full,stack,top\n",
        "  if(isStackEmpty()):\n",
        "    print(\"Stack is empty\")\n",
        "    return None\n",
        "  a= stack[top]\n",
        "  stack[top]=None\n",
        "  top-=1\n",
        "  return a\n",
        "\n",
        "\n"
      ],
      "metadata": {
        "id": "Q4XRLHeY2_lw"
      },
      "execution_count": null,
      "outputs": []
    },
    {
      "cell_type": "code",
      "source": [
        "FULL=int(input(\"size : \"))\n",
        "stack = [None for _ in range(FULL)]\n",
        "top = -1\n",
        "\n",
        "def check(e):\n",
        "  for c in e:\n",
        "    if c in '(':\n",
        "      push(c)\n",
        "    else:\n",
        "      if c in ')':\n",
        "        a= pop()\n",
        "        if a == '(':\n",
        "          continue\n",
        "        else:\n",
        "          return False\n",
        "  if isStackEmpty():\n",
        "    return True\n",
        "  else:\n",
        "    return False\n",
        "\n",
        "\n",
        "e=input(\"수식 : \")\n",
        "print(check(e))\n",
        "\n"
      ],
      "metadata": {
        "id": "wc_aH-9t3pPu",
        "colab": {
          "base_uri": "https://localhost:8080/"
        },
        "outputId": "550a166d-4b09-410d-8adb-d328c7cf141a"
      },
      "execution_count": null,
      "outputs": [
        {
          "output_type": "stream",
          "name": "stdout",
          "text": [
            "size : 20\n",
            "수식 : ((4+5)-6)/7(\n",
            "False\n"
          ]
        }
      ]
    },
    {
      "cell_type": "code",
      "source": [
        "#괄호 파악\n",
        "FULL=int(input(\"size : \"))\n",
        "stack = [None for _ in range(FULL)]\n",
        "top = -1\n",
        "\n",
        "def check(e):\n",
        "  if '('||'{'||'['||'<' in e:\n",
        "\n",
        "\n",
        "\n",
        "\n",
        "\n",
        "\n",
        "\n",
        "\n",
        "  for c in e:\n",
        "    if c in '('||'{'||'['||'<':\n",
        "      push(c)\n",
        "    else:\n",
        "      if c in ')'||'}'||']'||'>':\n",
        "        a= pop()\n",
        "        if a == '('||'{'||'['||'<':\n",
        "          continue\n",
        "        else:\n",
        "          return False\n",
        "  if isStackEmpty():\n",
        "    return True\n",
        "  else:\n",
        "    return False\n"
      ],
      "metadata": {
        "colab": {
          "base_uri": "https://localhost:8080/",
          "height": 130
        },
        "id": "Bvylw0BfIUkz",
        "outputId": "b15b327c-eda9-4eda-f54d-e91ff4b9f685"
      },
      "execution_count": null,
      "outputs": [
        {
          "output_type": "error",
          "ename": "SyntaxError",
          "evalue": "ignored",
          "traceback": [
            "\u001b[0;36m  File \u001b[0;32m\"<ipython-input-13-32ab7d316a08>\"\u001b[0;36m, line \u001b[0;32m6\u001b[0m\n\u001b[0;31m    if '('||'{'||'['||'<' in e:\u001b[0m\n\u001b[0m           ^\u001b[0m\n\u001b[0;31mSyntaxError\u001b[0m\u001b[0;31m:\u001b[0m invalid syntax\n"
          ]
        }
      ]
    },
    {
      "cell_type": "code",
      "source": [
        "\n",
        "FULL=int(input(\"size : \"))\n",
        "stack = [None for _ in range(FULL)]\n",
        "top = -1\n",
        "\n",
        "def check(e):\n",
        "  for c in e:\n",
        "    if(top%2==0):\n",
        "      for c in range(top+2/2):\n",
        "        push(c)\n",
        "        continue\n",
        "    else:\n",
        "      for c in range(top+1/2):\n",
        "        push(c)\n",
        "        continue\n",
        "    if(stack[top]==pop()):\n",
        "      continue\n",
        "    else:\n",
        "      return \"no\"\n",
        "  if isStackEmpty():\n",
        "    return \"ok\"\n",
        "  else:\n",
        "    return \"no\"\n",
        "\n",
        "\n",
        "e=input(\"num : \")\n",
        "print(check(e))"
      ],
      "metadata": {
        "colab": {
          "base_uri": "https://localhost:8080/",
          "height": 351
        },
        "id": "vHuxbyPOKTr8",
        "outputId": "f32d6096-acb4-4831-974a-0828c65aeb6c"
      },
      "execution_count": null,
      "outputs": [
        {
          "name": "stdout",
          "output_type": "stream",
          "text": [
            "size : 20\n",
            "num : 1321\n"
          ]
        },
        {
          "output_type": "error",
          "ename": "TypeError",
          "evalue": "ignored",
          "traceback": [
            "\u001b[0;31m---------------------------------------------------------------------------\u001b[0m",
            "\u001b[0;31mTypeError\u001b[0m                                 Traceback (most recent call last)",
            "\u001b[0;32m<ipython-input-24-b6fdace5520f>\u001b[0m in \u001b[0;36m<cell line: 26>\u001b[0;34m()\u001b[0m\n\u001b[1;32m     24\u001b[0m \u001b[0;34m\u001b[0m\u001b[0m\n\u001b[1;32m     25\u001b[0m \u001b[0me\u001b[0m\u001b[0;34m=\u001b[0m\u001b[0mint\u001b[0m\u001b[0;34m(\u001b[0m\u001b[0minput\u001b[0m\u001b[0;34m(\u001b[0m\u001b[0;34m\"num : \"\u001b[0m\u001b[0;34m)\u001b[0m\u001b[0;34m)\u001b[0m\u001b[0;34m\u001b[0m\u001b[0;34m\u001b[0m\u001b[0m\n\u001b[0;32m---> 26\u001b[0;31m \u001b[0mprint\u001b[0m\u001b[0;34m(\u001b[0m\u001b[0mcheck\u001b[0m\u001b[0;34m(\u001b[0m\u001b[0me\u001b[0m\u001b[0;34m)\u001b[0m\u001b[0;34m)\u001b[0m\u001b[0;34m\u001b[0m\u001b[0;34m\u001b[0m\u001b[0m\n\u001b[0m",
            "\u001b[0;32m<ipython-input-24-b6fdace5520f>\u001b[0m in \u001b[0;36mcheck\u001b[0;34m(e)\u001b[0m\n\u001b[1;32m      4\u001b[0m \u001b[0;34m\u001b[0m\u001b[0m\n\u001b[1;32m      5\u001b[0m \u001b[0;32mdef\u001b[0m \u001b[0mcheck\u001b[0m\u001b[0;34m(\u001b[0m\u001b[0me\u001b[0m\u001b[0;34m)\u001b[0m\u001b[0;34m:\u001b[0m\u001b[0;34m\u001b[0m\u001b[0;34m\u001b[0m\u001b[0m\n\u001b[0;32m----> 6\u001b[0;31m   \u001b[0;32mfor\u001b[0m \u001b[0mc\u001b[0m \u001b[0;32min\u001b[0m \u001b[0me\u001b[0m\u001b[0;34m:\u001b[0m\u001b[0;34m\u001b[0m\u001b[0;34m\u001b[0m\u001b[0m\n\u001b[0m\u001b[1;32m      7\u001b[0m     \u001b[0;32mif\u001b[0m\u001b[0;34m(\u001b[0m\u001b[0mtop\u001b[0m\u001b[0;34m%\u001b[0m\u001b[0;36m2\u001b[0m\u001b[0;34m==\u001b[0m\u001b[0;36m0\u001b[0m\u001b[0;34m)\u001b[0m\u001b[0;34m:\u001b[0m\u001b[0;34m\u001b[0m\u001b[0;34m\u001b[0m\u001b[0m\n\u001b[1;32m      8\u001b[0m       \u001b[0;32mfor\u001b[0m \u001b[0mc\u001b[0m \u001b[0;32min\u001b[0m \u001b[0mrange\u001b[0m\u001b[0;34m(\u001b[0m\u001b[0mtop\u001b[0m\u001b[0;34m+\u001b[0m\u001b[0;36m2\u001b[0m\u001b[0;34m/\u001b[0m\u001b[0;36m2\u001b[0m\u001b[0;34m)\u001b[0m\u001b[0;34m:\u001b[0m\u001b[0;34m\u001b[0m\u001b[0;34m\u001b[0m\u001b[0m\n",
            "\u001b[0;31mTypeError\u001b[0m: 'int' object is not iterable"
          ]
        }
      ]
    },
    {
      "cell_type": "markdown",
      "source": [
        "# Queue"
      ],
      "metadata": {
        "id": "r1zE1_jyQ-Pa"
      }
    },
    {
      "cell_type": "code",
      "source": [
        "class Node:\n",
        "  def __init__(self,data):\n",
        "    self.data =data\n",
        "    self.link =None\n",
        "\n",
        "FULL = int(input(\"Queue size:\"))\n",
        "size = 0\n",
        "front = None\n",
        "rear = None\n",
        "\n",
        "def isEmpty():\n",
        "  global front\n",
        "  return front == None\n",
        "\n",
        "def isFull():\n",
        "  global size,FULL\n",
        "  return size>= FULL\n",
        "\n",
        "def enqueue(data):\n",
        "  global size,front, rear\n",
        "  if isFull():\n",
        "    print(\"Queue is full\")\n",
        "    return\n",
        "  n = Node(data)\n",
        "  size +=1\n",
        "  if(rear ==None):\n",
        "    front = rear = n\n",
        "  else:\n",
        "    rear.link = n\n",
        "    rear = n\n",
        "\n",
        "def dequeue():\n",
        "  global size,front, rear\n",
        "  if isEmpty():\n",
        "    print(\"Queue is empty\")\n",
        "    return None\n",
        "  size -=1\n",
        "  n = front\n",
        "  front = n.link\n",
        "  return n.data"
      ],
      "metadata": {
        "colab": {
          "base_uri": "https://localhost:8080/"
        },
        "id": "aKEK_fuiRDIg",
        "outputId": "5cbdb271-f189-40ca-e422-9828b6e9bc64"
      },
      "execution_count": null,
      "outputs": [
        {
          "name": "stdout",
          "output_type": "stream",
          "text": [
            "Queue size:4\n"
          ]
        }
      ]
    },
    {
      "cell_type": "code",
      "source": [
        "#stack , queue 연동\n",
        "FULL=int(input(\"size : \"))\n",
        "stack = [None for _ in range(FULL)]\n",
        "top = -1\n",
        "\n",
        "class Node:\n",
        "  def __init__(self,data):\n",
        "    self.data =data\n",
        "    self.link =None\n",
        "\n",
        "FULL = int(input(\"Queue size:\"))\n",
        "size = 0\n",
        "front = None\n",
        "rear = None\n",
        "\n",
        "def isStackFull():\n",
        "  global Full,stack,top\n",
        "  if(top>=FULL-1):\n",
        "    return True\n",
        "  else:\n",
        "    return False\n",
        "\n",
        "def isStackEmpty():\n",
        "  global Full,stack,top\n",
        "  if(top<=-1):\n",
        "    return True\n",
        "  else:\n",
        "    return False\n",
        "\n",
        "def push(a):\n",
        "  global Full,stack,top\n",
        "  if(isStackFull()):\n",
        "    print(\"Stack is full!\")\n",
        "    return\n",
        "  top+=1\n",
        "  stack[top]=a\n",
        "\n",
        "\n",
        "def pop():\n",
        "  global Full,stack,top\n",
        "  if(isStackEmpty()):\n",
        "    print(\"Stack is empty\")\n",
        "    return None\n",
        "  a= stack[top]\n",
        "  stack[top]=None\n",
        "  top-=1\n",
        "  return a\n",
        "\n",
        "def isEmpty():\n",
        "  global front\n",
        "  return front == None\n",
        "\n",
        "def isFull():\n",
        "  global size,FULL\n",
        "  return size>= FULL\n",
        "\n",
        "def enqueue(data):\n",
        "  global size,front, rear\n",
        "  if isFull():\n",
        "    print(\"Queue is full\")\n",
        "    return\n",
        "  n = Node(data)\n",
        "  size +=1\n",
        "  if(rear ==None):\n",
        "    front = rear = n\n",
        "  else:\n",
        "    rear.link = n\n",
        "    rear = n\n",
        "\n",
        "def dequeue():\n",
        "  global size,front, rear\n",
        "  if isEmpty():\n",
        "    print(\"Queue is empty\")\n",
        "    return None\n",
        "  size -=1\n",
        "  n = front\n",
        "  front = n.link\n",
        "  return n.data\n",
        "\n",
        "def printqueue():\n",
        "  global size, front, rear\n",
        "  if isEmpty():\n",
        "    print(\"Queue is empty\")\n",
        "    return\n",
        "  current = front\n",
        "  while current != None:\n",
        "    print(current.data)\n",
        "    current = current.link\n",
        "\n",
        "enqueue('A')\n",
        "enqueue('B')\n",
        "enqueue('C')\n",
        "enqueue('D')\n",
        "\n",
        "push(dequeue())\n",
        "push(dequeue())\n",
        "push(dequeue())\n",
        "push(dequeue())\n",
        "\n",
        "enqueue(pop())\n",
        "enqueue(pop())\n",
        "enqueue(pop())\n",
        "enqueue(pop())\n",
        "\n",
        "print(dequeue())"
      ],
      "metadata": {
        "colab": {
          "base_uri": "https://localhost:8080/"
        },
        "id": "o3IPpy772Hn0",
        "outputId": "45b7e403-411a-4f9a-b745-b75a48823167"
      },
      "execution_count": null,
      "outputs": [
        {
          "output_type": "stream",
          "name": "stdout",
          "text": [
            "size : 4\n",
            "Queue size:4\n",
            "Queue is empty\n",
            "None\n"
          ]
        }
      ]
    },
    {
      "cell_type": "markdown",
      "source": [
        "# Search"
      ],
      "metadata": {
        "id": "rOXJ6qPRG2xk"
      }
    },
    {
      "cell_type": "markdown",
      "source": [
        "**Linear search** -> 전수 검사, 완벽하지만 시간이 오래걸림,O(n)"
      ],
      "metadata": {
        "id": "lQ9x-TwdITkp"
      }
    },
    {
      "cell_type": "code",
      "source": [
        "a= [1,3,5,7,9]\n",
        "\n",
        "def find(d):\n",
        "  for i in range(0,len(a)):\n",
        "    if a[i]==d:\n",
        "      print(\"find\")\n",
        "      return\n",
        "  print(\"not found\")\n",
        "\n",
        "find(int(input(\"찾는 값 : \")))\n"
      ],
      "metadata": {
        "colab": {
          "base_uri": "https://localhost:8080/"
        },
        "id": "duITOj31G9HG",
        "outputId": "e925a214-89ad-42d4-da6b-8ed323d20b70"
      },
      "execution_count": null,
      "outputs": [
        {
          "output_type": "stream",
          "name": "stdout",
          "text": [
            "찾는 값 : 3\n",
            "find\n"
          ]
        }
      ]
    },
    {
      "cell_type": "markdown",
      "source": [
        "**Binary search**->정렬 되어있는 데이터 일때,배열의 중앙값을 조사하여 왼쪽 또는 오른쪽에 있는지를 알아내어 반만 조사,O(log n)"
      ],
      "metadata": {
        "id": "vYx7n0TOIY5i"
      }
    },
    {
      "cell_type": "code",
      "source": [
        "a=[1,3,5,7,9,11,13,15,17,19]\n",
        "\n",
        "def binSearch(d):\n",
        "  start = 0\n",
        "  end = len(a)-1\n",
        "\n",
        "  while (start<=end):\n",
        "    mid = (start+end)//2\n",
        "    if a[mid]==d:\n",
        "      print(\"find\")\n",
        "      return\n",
        "    else:\n",
        "      if a[mid]>d:\n",
        "        end = mid -1\n",
        "      else:\n",
        "        start = mid+1\n",
        "  print(\"not Found\")\n",
        "\n",
        "  binSearch(int(input(\"찾는 값: \")))"
      ],
      "metadata": {
        "id": "0styywlNIgr6"
      },
      "execution_count": null,
      "outputs": []
    },
    {
      "cell_type": "code",
      "source": [
        "#네이버 시험문제\n",
        "def BSearch (arr[],target):\n",
        "  low = 0\n",
        "  high = len(arr)-1\n",
        "\n",
        "  while (low<=high):\n",
        "    mid = (low+high)/2\n",
        "\n",
        "#++더 쓰기"
      ],
      "metadata": {
        "id": "bkj1qL3cKgd1"
      },
      "execution_count": null,
      "outputs": []
    },
    {
      "cell_type": "markdown",
      "source": [
        "**Index search**->색인순차탐색,인덱스테이블로 정렬되어있는 데이터를 인덱스로 근처까지 가서 전수검색(사전찾기)"
      ],
      "metadata": {
        "id": "fZqRl62ZIdhg"
      }
    },
    {
      "cell_type": "code",
      "source": [
        "#안나옴"
      ],
      "metadata": {
        "id": "RDBRpMX6IhCs"
      },
      "execution_count": null,
      "outputs": []
    },
    {
      "cell_type": "code",
      "source": [],
      "metadata": {
        "id": "Jnpd7AKpLvnl"
      },
      "execution_count": null,
      "outputs": []
    },
    {
      "cell_type": "markdown",
      "source": [
        "# 문제"
      ],
      "metadata": {
        "id": "nPc__OjsOjeU"
      }
    },
    {
      "cell_type": "code",
      "source": [
        "#임의의 서로 다른 10개의 자연수에 대해 다음 기능을 하는 프로그램\n",
        "import random\n",
        "data_list = random.sample(range(100),10)\n",
        "\n",
        "print(data_list)\n",
        "\n",
        "#짝수의 개수\n",
        "def 짝수(arr):\n",
        "  count=0\n",
        "  for i in range(0,len(arr)-1):\n",
        "    if (arr[i]%2==0):\n",
        "      count+=1\n",
        "  return count\n",
        "\n",
        "#중복찾기\n",
        "def find(arr,a):\n",
        "  count=0\n",
        "  index=[]\n",
        "  for i in range(0,len(arr)-1):\n",
        "    if(arr[i]==a):\n",
        "      count+=10\n",
        "      index.append(i)\n",
        "  if(count==0):\n",
        "    print(\"중복되지 않음\")\n",
        "  else:\n",
        "    print(count)\n",
        "    print(\"만큼 반복\")\n",
        "    print(index)\n",
        "    print(\"에서 반복\")\n",
        "\n",
        "#최대-최소\n",
        "def max_min(arr):\n",
        "  max=0\n",
        "  min=0\n",
        "  for i in range(0,len(arr)-1):\n",
        "    if (arr[i]>max):\n",
        "      max = arr[i]\n",
        "    if (arr[i]<min):\n",
        "      min = arr[i]\n",
        "  return max-min"
      ],
      "metadata": {
        "colab": {
          "base_uri": "https://localhost:8080/"
        },
        "id": "0O46ju4QOpp1",
        "outputId": "c00831d7-3840-4225-9b5b-f97d9db8b983"
      },
      "execution_count": null,
      "outputs": [
        {
          "output_type": "stream",
          "name": "stdout",
          "text": [
            "[41, 24, 55, 25, 26, 69, 8, 63, 81, 34]\n"
          ]
        }
      ]
    },
    {
      "cell_type": "code",
      "source": [
        "v \\\\#단어를 입력받아모음이 연속 2개인 단어와 모음 이외의 알파벳이 연속 3개인 단어를 각각 찾아내서 그 갯수를 순서대로 출력\n",
        "#단어의 입력은 10개 이하, 20자 이하의 알파벳 소문자 문자열\n",
        "#공백으로 구분\n",
        "#모음은(a,e,i,o,u)\n",
        "#올바른 출력은 두개의 문장\n",
        "vowel_word=0\n",
        "consonant_word=0\n",
        "\n",
        "a = input()\n",
        "word=a.split()\n",
        "\n",
        "for i in range(0,len(word)):\n",
        "  vowel_count=0\n",
        "  consonant_count=0\n",
        "  for j in range(0,len(word[i])):\n",
        "    if(word[i][j]=='a'or word[i][j]=='e'or word[i][j]=='i'or word[i][j]=='o'or word[i][j]=='u'):\n",
        "      vowel_count+=1\n",
        "      consonant_count=0\n",
        "      if(vowel_count==2):\n",
        "        vowel_word+=1\n",
        "    else:\n",
        "      consonant_count+=1\n",
        "      vowel_count=0\n",
        "      if(consonant_count==3):\n",
        "        consonant_word+=1\n",
        "\n",
        "print(vowel_word)\n",
        "print(consonant_word)\n",
        "\n",
        "\n",
        "\n"
      ],
      "metadata": {
        "colab": {
          "base_uri": "https://localhost:8080/"
        },
        "id": "KV3VuNOkQ6NN",
        "outputId": "83f5ea99-a844-4638-e4bf-947f3d5bc277"
      },
      "execution_count": null,
      "outputs": [
        {
          "output_type": "stream",
          "name": "stdout",
          "text": [
            "toast standard bank display book\n",
            "2\n",
            "1\n"
          ]
        }
      ]
    },
    {
      "cell_type": "markdown",
      "source": [
        "# sort"
      ],
      "metadata": {
        "id": "KXtkEKQbJ7PM"
      }
    },
    {
      "cell_type": "code",
      "source": [
        "def bubbleSort(a):\n",
        "  n = len(a)\n",
        "  swapped = False\n",
        "  for i in range(n-1):\n",
        "    for j in range(0,n-i-1):\n",
        "      if a [j]>a[j+1]:\n",
        "        swapped = True\n",
        "        a[j],a[j+1]=a[j+1],a[j]\n",
        "    if not swapped:\n",
        "      return\n",
        "\n",
        "def selectionSort(a):\n",
        "  for i in range(len(a)):\n",
        "    min_i = i\n",
        "\n",
        "    for j in range(i+1,len(a)):\n",
        "      if a[j]<a[min_i]:\n",
        "        min_i = j\n",
        "    (a[i],a[min_i])=(a[min_i],a[i])\n",
        "\n",
        "def insertionSort(a):\n",
        "  if(n:=len(a))<=1:\n",
        "    return\n",
        "  for i in range(1,n):\n",
        "    k=a[i]\n",
        "    j=i-1\n",
        "    while j>=0 and k<a[j]:\n",
        "      a[j+1]=a[j]\n",
        "      j-=10\n",
        "    a[j+1]=k\n",
        "\n",
        "n = [6,4,2,1,22,9,17]\n",
        "bubbleSort(n)\n",
        "selectionSort(n)\n",
        "insertionSort(n)\n",
        "n"
      ],
      "metadata": {
        "colab": {
          "base_uri": "https://localhost:8080/"
        },
        "id": "m0lDDlXaJ-pF",
        "outputId": "37fd882f-ecdd-4e42-ffb1-18f27bda4ab5"
      },
      "execution_count": null,
      "outputs": [
        {
          "output_type": "execute_result",
          "data": {
            "text/plain": [
              "[1, 2, 4, 6, 9, 17, 22]"
            ]
          },
          "metadata": {},
          "execution_count": 3
        }
      ]
    },
    {
      "cell_type": "code",
      "source": [
        "#quick sort\n",
        "def partition(a,low,high):\n",
        "  pivot = a[high]\n",
        "  i= low-1\n",
        "  for j in range(low,high):\n",
        "    if a[j]<= pivot:\n",
        "      i+=1\n",
        "      a[i],a[j]=a[j],a[i]\n",
        "  a[i+1],a[high] = a[high],a[i+1]\n",
        "  return i+1\n",
        "\n",
        "def quickSort(array, low,high):\n",
        "  if low<high:\n",
        "    p=partition(array,low,high)\n",
        "    quickSort(array,low,p-1)\n",
        "    quickSort(array,p+1,high)\n",
        "\n",
        "n=[6,4,2,1,22,9,17]\n",
        "quickSort(n,0,len(n)-1)\n",
        "n"
      ],
      "metadata": {
        "colab": {
          "base_uri": "https://localhost:8080/"
        },
        "id": "GqTnn_iuK5fZ",
        "outputId": "10b4ffce-e02e-47d1-97bc-3ce01b8af13a"
      },
      "execution_count": null,
      "outputs": [
        {
          "output_type": "execute_result",
          "data": {
            "text/plain": [
              "[1, 2, 4, 6, 9, 17, 22]"
            ]
          },
          "metadata": {},
          "execution_count": 1
        }
      ]
    },
    {
      "cell_type": "markdown",
      "source": [
        "17 53 71 62 **36** 46 41 23 12\n",
        "\n",
        "17 23 71 62 36 46 41 53 12\n",
        "\n",
        "17 23 12 62 36 46 41 53 71\n",
        "\n",
        "17 23 12 **36** 62 46 41 53 71\n",
        "\n",
        "\n",
        "**5** 3 8 9 1 7 0 2 6 4\n",
        "\n",
        "5 3 1 9 8 7 0 2 6 4\n",
        "\n",
        "5 3 1 0 8 7 9 2 6 4\n",
        "\n",
        "5 3 1 0 2 7 9 8 6 4\n",
        "\n",
        "5 3 1 0 2 4 9 8 6 7\n",
        "\n",
        "3 1 0 2 4 **5** 9 8 6 7"
      ],
      "metadata": {
        "id": "31GO2HjhPbFP"
      }
    },
    {
      "cell_type": "markdown",
      "source": [
        "시간복잡도\n",
        "배열 링크드 리스트 장단점\n",
        "스택 원리\n",
        "큐 원리\n",
        "서치"
      ],
      "metadata": {
        "id": "CXJeGTPcSPpl"
      }
    },
    {
      "cell_type": "markdown",
      "source": [
        "# tree\n"
      ],
      "metadata": {
        "id": "2lwqeUCaUi0G"
      }
    },
    {
      "cell_type": "code",
      "source": [],
      "metadata": {
        "id": "44xKjcuCUlTL"
      },
      "execution_count": null,
      "outputs": []
    },
    {
      "cell_type": "markdown",
      "source": [
        "포화이진트리\n",
        "완전이진트리\n",
        "편향이진트리"
      ],
      "metadata": {
        "id": "e9uLswiSUlzj"
      }
    },
    {
      "cell_type": "markdown",
      "source": [
        "이진 트리의 성질(시험에 나옴)"
      ],
      "metadata": {
        "id": "lDdKOkLw9HMM"
      }
    },
    {
      "cell_type": "markdown",
      "source": [
        "linked list tree"
      ],
      "metadata": {
        "id": "h6YaUd47_xc4"
      }
    },
    {
      "cell_type": "code",
      "source": [
        "class treeNode:\n",
        "  def __init__(self,data):\n",
        "    self.data =data\n",
        "    self.left = None\n",
        "    self.right = None\n",
        "\n",
        "n1 = treeNode('A')\n",
        "n2 = treeNode('B')\n",
        "n3 = treeNode('C')\n",
        "n4 = treeNode('D')\n",
        "n5 = treeNode('E')\n",
        "n6 = treeNode('F')\n",
        "n7 = treeNode('G')\n",
        "n8 = treeNode('H')\n",
        "n9 = treeNode('I')\n",
        "n10 = treeNode('J')\n",
        "\n",
        "n1.left =n2\n",
        "n1.right = n3\n",
        "n2.left =n4\n",
        "n2.right = n5\n",
        "n3.right=n6\n",
        "n4.left= n7\n",
        "n5.left=n8\n",
        "n5.right=n9\n",
        "n6.left=n10\n",
        "\n",
        "\n",
        "def inorder(n):\n",
        "  if n==None:\n",
        "    return\n",
        "  inorder(n.left)\n",
        "  print(n.data)\n",
        "  inorder(n.right)\n",
        "\n",
        "def postorder(n):\n",
        "  if n ==None:\n",
        "    postorder(n.left)\n",
        "    postorder(n.right)\n",
        "    print(n.data)\n",
        "\n",
        "def preorder(n):\n",
        "  if n==None:\n",
        "    return\n",
        "    print(n.data)\n",
        "    preorder(n.left)\n",
        "    preorder(n.right)\n",
        "\n",
        "print(preorder(n1))\n"
      ],
      "metadata": {
        "colab": {
          "base_uri": "https://localhost:8080/"
        },
        "id": "hVJ56LWT_gvP",
        "outputId": "b37660e3-da51-4bf1-c554-0231493ba583"
      },
      "execution_count": null,
      "outputs": [
        {
          "output_type": "stream",
          "name": "stdout",
          "text": [
            "None\n"
          ]
        }
      ]
    },
    {
      "cell_type": "markdown",
      "source": [
        "tree Traverse(트리 순회)\n"
      ],
      "metadata": {
        "id": "Ltf_qAPc_rpg"
      }
    },
    {
      "cell_type": "code",
      "source": [
        "def inorder(n):\n",
        "  if n==None:\n",
        "    return\n",
        "  inorder(n.left)\n",
        "  print(n.data)\n",
        "  inorder(n.right)\n",
        "\n",
        "def postorder(n):\n",
        "  if n ==None:\n",
        "    postorder(n.left)\n",
        "    postorder(n.right)\n",
        "    print(n.data)\n",
        "\n",
        "def preorder(n):\n",
        "  if n==None:\n",
        "    return\n",
        "    print(n.data)\n",
        "    preorder(n.left)\n",
        "    preorder(n.right)\n"
      ],
      "metadata": {
        "id": "4f4Qku8tBMji"
      },
      "execution_count": null,
      "outputs": []
    },
    {
      "cell_type": "markdown",
      "source": [
        "# heap"
      ],
      "metadata": {
        "id": "0Gfnt2qXVebM"
      }
    },
    {
      "cell_type": "markdown",
      "source": [
        "보통 최대, 최소 값만을 구하고 싶을 때 사용"
      ],
      "metadata": {
        "id": "wEBk-qDAbqYZ"
      }
    },
    {
      "cell_type": "code",
      "source": [
        "from queue import PriorityQueue\n",
        "\n",
        "Q= PriorityQueue()#최소값부터 출력\n",
        "\n",
        "Q.put(10)\n",
        "Q.put(1)\n",
        "Q.put(5)\n",
        "Q.put(3)\n",
        "print(Q.get())\n",
        "print(Q.get())\n",
        "print(Q.get())\n",
        "print(Q.get())\n",
        "\n",
        "from queue import PriorityQueue\n",
        "\n",
        "Q= PriorityQueue()\n",
        "Q.put((10,'koh'))\n",
        "Q.put((1,'keon'))\n",
        "Q.put((5,'hyouk'))\n",
        "print(Q.get()[1])\n",
        "print(Q.get()[1])\n",
        "print(Q.get()[1])"
      ],
      "metadata": {
        "colab": {
          "base_uri": "https://localhost:8080/"
        },
        "id": "Pkr_EU5KVhLr",
        "outputId": "852d5307-e052-4116-a048-b0fc09c2d6db"
      },
      "execution_count": null,
      "outputs": [
        {
          "output_type": "stream",
          "name": "stdout",
          "text": [
            "(1, -1)\n",
            "(3, -3)\n",
            "(5, -5)\n",
            "(10, -10)\n",
            "keon\n",
            "hyouk\n",
            "koh\n"
          ]
        }
      ]
    },
    {
      "cell_type": "code",
      "source": [
        "from queue import PriorityQueue\n",
        "\n",
        "Q= PriorityQueue()#최대값부터출력\n",
        "\n",
        "Q.put(10*-1)\n",
        "Q.put(1*-1)\n",
        "Q.put(5*-1)\n",
        "Q.put(3*-1)\n",
        "print(Q.get()*-1)\n",
        "print(Q.get()*-1)\n",
        "print(Q.get()*-1)\n",
        "print(Q.get()*-1)"
      ],
      "metadata": {
        "colab": {
          "base_uri": "https://localhost:8080/"
        },
        "id": "4ZJOvj6TXh6s",
        "outputId": "8d068b19-d546-4f89-8262-77a381f44136"
      },
      "execution_count": null,
      "outputs": [
        {
          "output_type": "stream",
          "name": "stdout",
          "text": [
            "10\n",
            "5\n",
            "3\n",
            "1\n"
          ]
        }
      ]
    },
    {
      "cell_type": "markdown",
      "source": [
        "힙은 완전 이진트리로 구성\n",
        "포화이진트리:꽉찬 트리\n",
        "완전이진트리:포화이진트리에서 오른쪽 아래부터 지워나간 것"
      ],
      "metadata": {
        "id": "2_nDbKSlYsBr"
      }
    },
    {
      "cell_type": "markdown",
      "source": [
        "# graph\n"
      ],
      "metadata": {
        "id": "Arx_Ej35FUqe"
      }
    },
    {
      "cell_type": "markdown",
      "source": [
        "node가 edge(link)로 연결된 것"
      ],
      "metadata": {
        "id": "2p32N0dLFkpj"
      }
    },
    {
      "cell_type": "markdown",
      "source": [
        "지도를 메트릭스,리스트,엣지리스트,링크드 리스트(방향성) 중 어느것으로 할 지"
      ],
      "metadata": {
        "id": "e_lDsXWsZZmI"
      }
    },
    {
      "cell_type": "markdown",
      "source": [
        "spanning tree : 사이클 하나 없이 모든 노드 연결\n",
        "문제 : 미니멈 스태닝 트리 찾기\n",
        "문제 : 최단경로 알고리즘 풀기"
      ],
      "metadata": {
        "id": "2SLRB0g5bhsW"
      }
    },
    {
      "cell_type": "markdown",
      "source": [
        "DFS:길찾기, 회로 사이클 탐색-전체적 구조 파악(스택활용)\n",
        "BFS:배민 거리순서-목적지부터 차레대로 파악(큐 활용)"
      ],
      "metadata": {
        "id": "uVNysJ7sdj3b"
      }
    },
    {
      "cell_type": "code",
      "source": [],
      "metadata": {
        "id": "F9_m_7t5djeQ"
      },
      "execution_count": null,
      "outputs": []
    },
    {
      "cell_type": "code",
      "source": [],
      "metadata": {
        "id": "zJhbpauKFZOE"
      },
      "execution_count": null,
      "outputs": []
    },
    {
      "cell_type": "markdown",
      "source": [
        "# hash"
      ],
      "metadata": {
        "id": "9u4LIKedJsq1"
      }
    },
    {
      "cell_type": "markdown",
      "source": [],
      "metadata": {
        "id": "OmfI99UoJw0R"
      }
    },
    {
      "cell_type": "code",
      "source": [
        "import hashlib\n",
        "\n",
        "msg=input(\"입력값:\")\n",
        "msg=hashlib.sha256()\n",
        "print(msg.digest())\n",
        "print(msg.digest_size)"
      ],
      "metadata": {
        "colab": {
          "base_uri": "https://localhost:8080/"
        },
        "id": "P-TCm1YULal1",
        "outputId": "9b67af58-2ae1-4812-a31c-08d9b8f934fe"
      },
      "execution_count": null,
      "outputs": [
        {
          "output_type": "stream",
          "name": "stdout",
          "text": [
            "입력값:4576\n",
            "b\"\\xe3\\xb0\\xc4B\\x98\\xfc\\x1c\\x14\\x9a\\xfb\\xf4\\xc8\\x99o\\xb9$'\\xaeA\\xe4d\\x9b\\x93L\\xa4\\x95\\x99\\x1bxR\\xb8U\"\n",
            "32\n"
          ]
        }
      ]
    }
  ]
}